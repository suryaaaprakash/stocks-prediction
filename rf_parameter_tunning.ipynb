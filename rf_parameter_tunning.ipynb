{
  "nbformat": 4,
  "nbformat_minor": 0,
  "metadata": {
    "colab": {
      "provenance": []
    },
    "kernelspec": {
      "name": "python3",
      "display_name": "Python 3"
    },
    "language_info": {
      "name": "python"
    }
  },
  "cells": [
    {
      "cell_type": "code",
      "execution_count": null,
      "metadata": {
        "colab": {
          "base_uri": "https://localhost:8080/"
        },
        "id": "M2Ix0wEatC77",
        "outputId": "827409cf-bf80-4f7e-a187-d83cf6a3975a"
      },
      "outputs": [
        {
          "output_type": "stream",
          "name": "stdout",
          "text": [
            "Best Hyperparameters: {'estimator__max_depth': 10, 'estimator__n_estimators': 200}\n",
            "Mean Squared Error: 7526.810762559332\n"
          ]
        }
      ],
      "source": [
        "import pandas as pd\n",
        "from sklearn.ensemble import RandomForestRegressor\n",
        "from sklearn.multioutput import MultiOutputRegressor\n",
        "from sklearn.model_selection import train_test_split\n",
        "from sklearn.metrics import mean_squared_error\n",
        "from sklearn.model_selection import GridSearchCV\n",
        "\n",
        "\n",
        "df=pd.read_csv('/content/NIFTY 50-31-10-2022-to-31-10-2023.csv')\n",
        "# Select features and target variables\n",
        "X = df[['Open ']]\n",
        "Y = df[['High ', 'Low ', 'Close ']]\n",
        "\n",
        "# Split the data into training and testing sets\n",
        "X_train, X_test, Y_train, Y_test = train_test_split(X, Y, test_size=0.2, random_state=42)\n",
        "\n",
        "base_regressor = RandomForestRegressor(random_state=42)\n",
        "\n",
        "model = MultiOutputRegressor(base_regressor)\n",
        "\n",
        "# Hyperparameter Tuning\n",
        "param_grid = {\n",
        "    'estimator__n_estimators': [50, 100, 200],\n",
        "    'estimator__max_depth': [None, 10, 20],\n",
        "}\n",
        "\n",
        "grid_search = GridSearchCV(model, param_grid, cv=5, scoring='neg_mean_squared_error')\n",
        "grid_search.fit(X_train, Y_train)\n",
        "\n",
        "best_params = grid_search.best_params_\n",
        "print(\"Best Hyperparameters:\", best_params)\n",
        "\n",
        "# Fit the model to your data with the best hyperparameters\n",
        "model.set_params(**best_params)\n",
        "model.fit(X_train, Y_train)\n",
        "\n",
        "# Make predictions on the test set\n",
        "predictions = model.predict(X_test)\n",
        "\n",
        "# Evaluate the model using Mean Squared Error\n",
        "mse = mean_squared_error(Y_test, predictions)\n",
        "print(f\"Mean Squared Error: {mse}\")\n"
      ]
    },
    {
      "cell_type": "code",
      "source": [
        "\n",
        "X_new = [[18130.70]]\n",
        "\n",
        "predictions = model.predict(X_new)\n",
        "\n",
        "print(\"New Predictions:\")\n",
        "print(pd.DataFrame(predictions , columns=['Predicted High', 'Predicted Low', 'Predicted Close']))\n"
      ],
      "metadata": {
        "colab": {
          "base_uri": "https://localhost:8080/"
        },
        "id": "a6iDLj2LvFDA",
        "outputId": "d90e8b3f-23c1-4a2a-dd24-bd584acc6281"
      },
      "execution_count": null,
      "outputs": [
        {
          "output_type": "stream",
          "name": "stdout",
          "text": [
            "New Predictions:\n",
            "   Predicted High  Predicted Low  Predicted Close\n",
            "0    18186.884761   18067.826884     18155.918443\n"
          ]
        },
        {
          "output_type": "stream",
          "name": "stderr",
          "text": [
            "/usr/local/lib/python3.10/dist-packages/sklearn/base.py:439: UserWarning: X does not have valid feature names, but RandomForestRegressor was fitted with feature names\n",
            "  warnings.warn(\n",
            "/usr/local/lib/python3.10/dist-packages/sklearn/base.py:439: UserWarning: X does not have valid feature names, but RandomForestRegressor was fitted with feature names\n",
            "  warnings.warn(\n",
            "/usr/local/lib/python3.10/dist-packages/sklearn/base.py:439: UserWarning: X does not have valid feature names, but RandomForestRegressor was fitted with feature names\n",
            "  warnings.warn(\n"
          ]
        }
      ]
    },
    {
      "cell_type": "code",
      "source": [
        "from sklearn.metrics import mean_squared_error, mean_absolute_error, r2_score\n"
      ],
      "metadata": {
        "id": "5WbMX8QGE_FI"
      },
      "execution_count": null,
      "outputs": []
    },
    {
      "cell_type": "code",
      "source": [
        "Y_pred = model.predict(X_test)\n",
        "\n",
        "mse = mean_squared_error(Y_test, Y_pred)\n",
        "mae = mean_absolute_error(Y_test, Y_pred)\n",
        "r2 = r2_score(Y_test, Y_pred)\n",
        "\n",
        "print(f'Mean Squared Error: {mse}')\n",
        "print(f'Mean Absolute Error: {mae}')\n",
        "print(f'R-squared: {r2}')"
      ],
      "metadata": {
        "colab": {
          "base_uri": "https://localhost:8080/"
        },
        "id": "BB0Gh_TpvSGP",
        "outputId": "a53229cf-12cc-476e-d509-beddceabae94"
      },
      "execution_count": null,
      "outputs": [
        {
          "output_type": "stream",
          "name": "stdout",
          "text": [
            "Mean Squared Error: 7526.810762559332\n",
            "Mean Absolute Error: 69.39916586459384\n",
            "R-squared: 0.9886367231344138\n"
          ]
        }
      ]
    },
    {
      "cell_type": "code",
      "source": [],
      "metadata": {
        "id": "ry-c5EPAE6XJ"
      },
      "execution_count": null,
      "outputs": []
    }
  ]
}